{
 "cells": [
  {
   "cell_type": "code",
   "execution_count": 6,
   "id": "23696cd9",
   "metadata": {},
   "outputs": [],
   "source": [
    "import pandas as pd"
   ]
  },
  {
   "cell_type": "code",
   "execution_count": 7,
   "id": "16e3d52b",
   "metadata": {},
   "outputs": [],
   "source": [
    "dataset = {\n",
    "    'Nama Mahasiswa': [\n",
    "        \"Adnan R.\", \"Bunga S.\", \"Candra M.\", \"Dian P.\", \"Eko H.\",\n",
    "        \"Fajar D.\", \"Gita K.\", \"Hafiz Z.\", \"Irma N.\", \"Jaka W.\",\n",
    "        \"Karina A.\", \"Lukman T.\", \"Maya F.\", \"Naufal G.\", \"Olivia P.\",\n",
    "        \"Rian V.\", \"Sari L.\", \"Taufik R.\", \"Umi B.\", \"Vicky X.\",\n",
    "        \"Wawan C.\", \"Xenia Z.\", \"Yayan K.\", \"Zaki M.\", \"Ahmad F.\",\n",
    "        \"Bela N.\", \"Candra G.\", \"Doni H.\", \"Elsa I.\", \"Fery J.\"\n",
    "    ],\n",
    "    'Durasi Tidur (Jam)': [\n",
    "        7.0, 6.5, 7.8, 7.2, 6.0,\n",
    "        7.5, 8.0, 6.9, 7.1, 7.3,\n",
    "        6.8, 7.6, 7.4, 6.7, 7.9,\n",
    "        8.1, 6.2, 7.7, 7.0, 7.5,\n",
    "        5.5, 5.8, 6.0, 5.0, 6.1,\n",
    "        8.5, 9.0, 5.9, 6.3, 7.2\n",
    "    ]\n",
    "}\n",
    "\n",
    "df = pd.DataFrame(dataset)"
   ]
  },
  {
   "cell_type": "code",
   "execution_count": 10,
   "id": "68a2b968",
   "metadata": {},
   "outputs": [
    {
     "name": "stdout",
     "output_type": "stream",
     "text": [
      "  Nama Mahasiswa  Durasi Tidur (Jam)\n",
      "0       Adnan R.                 7.0\n",
      "1       Bunga S.                 6.5\n",
      "2      Candra M.                 7.8\n",
      "3        Dian P.                 7.2\n",
      "4         Eko H.                 6.0\n"
     ]
    }
   ],
   "source": [
    "print(df.head())"
   ]
  }
 ],
 "metadata": {
  "kernelspec": {
   "display_name": "venv",
   "language": "python",
   "name": "python3"
  },
  "language_info": {
   "codemirror_mode": {
    "name": "ipython",
    "version": 3
   },
   "file_extension": ".py",
   "mimetype": "text/x-python",
   "name": "python",
   "nbconvert_exporter": "python",
   "pygments_lexer": "ipython3",
   "version": "3.13.7"
  }
 },
 "nbformat": 4,
 "nbformat_minor": 5
}
