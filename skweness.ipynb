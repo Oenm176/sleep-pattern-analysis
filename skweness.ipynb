{
 "cells": [
  {
   "cell_type": "code",
   "execution_count": 16,
   "id": "f85f7b13-7fd3-4f45-a80a-680144542666",
   "metadata": {},
   "outputs": [],
   "source": [
    "    import pandas as pd\n",
    "    import seaborn as sns\n",
    "    import matplotlib.pyplot as plt\n",
    "    import numpy as np\n",
    "    from collections import Counter\n",
    "    from scipy.stats import skew"
   ]
  },
  {
   "cell_type": "code",
   "execution_count": 18,
   "id": "392272d9-85f4-4f4b-a1a7-5fdd11cba78e",
   "metadata": {},
   "outputs": [],
   "source": [
    "dataset = {\n",
    "    'Nama Mahasiswa': [\n",
    "        \"Adnan R.\", \"Bunga S.\", \"Candra M.\", \"Dian P.\", \"Eko H.\",\n",
    "        \"Fajar D.\", \"Gita K.\", \"Hafiz Z.\", \"Irma N.\", \"Jaka W.\",\n",
    "        \"Karina A.\", \"Lukman T.\", \"Maya F.\", \"Naufal G.\", \"Olivia P.\",\n",
    "        \"Rian V.\", \"Sari L.\", \"Taufik R.\", \"Umi B.\", \"Vicky X.\",\n",
    "        \"Wawan C.\", \"Xenia Z.\", \"Yayan K.\", \"Zaki M.\", \"Ahmad F.\",\n",
    "        \"Bela N.\", \"Candra G.\", \"Doni H.\", \"Elsa I.\", \"Fery J.\"\n",
    "    ],\n",
    "    'Durasi Tidur (Jam)': [\n",
    "        7.0, 6.5, 7.8, 7.2, 6.0,\n",
    "        7.5, 8.0, 6.9, 7.1, 7.3,\n",
    "        6.8, 7.6, 7.4, 6.7, 7.9,\n",
    "        8.1, 6.2, 7.7, 7.0, 7.5,\n",
    "        5.5, 5.8, 6.0, 5.0, 6.1,\n",
    "        8.5, 9.0, 5.9, 6.3, 7.2\n",
    "    ]\n",
    "}\n",
    "\n",
    "df = pd.DataFrame(dataset)"
   ]
  },
  {
   "cell_type": "code",
   "execution_count": 20,
   "id": "915bb0a9-b97e-4ffa-b0dc-b4df53a6c488",
   "metadata": {},
   "outputs": [
    {
     "name": "stdout",
     "output_type": "stream",
     "text": [
      "  Nama Mahasiswa  Durasi Tidur (Jam)\n",
      "0       Adnan R.                 7.0\n",
      "1       Bunga S.                 6.5\n",
      "2      Candra M.                 7.8\n",
      "3        Dian P.                 7.2\n",
      "4         Eko H.                 6.0\n"
     ]
    }
   ],
   "source": [
    "print(df.head())"
   ]
  },
  {
   "cell_type": "code",
   "execution_count": 22,
   "id": "e4a08e37-d277-4590-bc4b-57e1f5cffdb9",
   "metadata": {},
   "outputs": [
    {
     "name": "stdout",
     "output_type": "stream",
     "text": [
      "Nilai Skewness: -0.0476\n",
      "Distribusi durasi tidur menunjukkan Negatif (Left Skewed), dengan ekor memanjang ke kiri.\n",
      "Ini mengindikasikan bahwa sebagian besar mahasiswa tidur sedikit lebih lama dari rata-rata, dengan beberapa outlier yang tidur sangat sebentar.\n"
     ]
    }
   ],
   "source": [
    "nilai_skewness = skew(df['Durasi Tidur (Jam)'])\n",
    "if nilai_skewness > 0:\n",
    "    jenis = \"Positif (Right Skewed)\"\n",
    "    arah = \"kanan\"\n",
    "    interpretasi = \"sebagian besar mahasiswa tidur sedikit lebih sebentar dari rata-rata, dengan beberapa outlier yang tidur sangat lama.\"\n",
    "elif nilai_skewness < 0:\n",
    "    jenis = \"Negatif (Left Skewed)\"\n",
    "    arah = \"kiri\"\n",
    "    interpretasi = \"sebagian besar mahasiswa tidur sedikit lebih lama dari rata-rata, dengan beberapa outlier yang tidur sangat sebentar.\"\n",
    "else:\n",
    "    jenis = \"Simetris (Tidak Skewed)\"\n",
    "    arah = \"-\"\n",
    "    interpretasi = \"durasi tidur mahasiswa relatif seimbang di sekitar rata-rata.\"\n",
    "\n",
    "# Tampilkan hasil\n",
    "print(f\"Nilai Skewness: {nilai_skewness:.4f}\")\n",
    "print(f\"Distribusi durasi tidur menunjukkan {jenis}, dengan ekor memanjang ke {arah}.\")\n",
    "print(f\"Ini mengindikasikan bahwa {interpretasi}\")"
   ]
  },
  {
   "cell_type": "code",
   "execution_count": null,
   "id": "2c4e8ed4-49f4-401b-b4a6-ddf3afdcf52c",
   "metadata": {},
   "outputs": [],
   "source": []
  }
 ],
 "metadata": {
  "kernelspec": {
   "display_name": "Python 3 (ipykernel)",
   "language": "python",
   "name": "python3"
  },
  "language_info": {
   "codemirror_mode": {
    "name": "ipython",
    "version": 3
   },
   "file_extension": ".py",
   "mimetype": "text/x-python",
   "name": "python",
   "nbconvert_exporter": "python",
   "pygments_lexer": "ipython3",
   "version": "3.12.4"
  }
 },
 "nbformat": 4,
 "nbformat_minor": 5
}
