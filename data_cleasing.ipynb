{
 "cells": [
  {
   "cell_type": "code",
   "execution_count": 33,
   "id": "6ec88f71",
   "metadata": {},
   "outputs": [],
   "source": [
    "import pandas as pd\n",
    "import seaborn as sns\n",
    "import matplotlib.pyplot as plt"
   ]
  },
  {
   "cell_type": "code",
   "execution_count": 8,
   "id": "8d677a75",
   "metadata": {},
   "outputs": [
    {
     "data": {
      "text/html": [
       "<div>\n",
       "<style scoped>\n",
       "    .dataframe tbody tr th:only-of-type {\n",
       "        vertical-align: middle;\n",
       "    }\n",
       "\n",
       "    .dataframe tbody tr th {\n",
       "        vertical-align: top;\n",
       "    }\n",
       "\n",
       "    .dataframe thead th {\n",
       "        text-align: right;\n",
       "    }\n",
       "</style>\n",
       "<table border=\"1\" class=\"dataframe\">\n",
       "  <thead>\n",
       "    <tr style=\"text-align: right;\">\n",
       "      <th></th>\n",
       "      <th>Nama Mahasiswa</th>\n",
       "      <th>Durasi Tidur (Jam)</th>\n",
       "    </tr>\n",
       "  </thead>\n",
       "  <tbody>\n",
       "    <tr>\n",
       "      <th>0</th>\n",
       "      <td>Adnan R.</td>\n",
       "      <td>7.0</td>\n",
       "    </tr>\n",
       "    <tr>\n",
       "      <th>1</th>\n",
       "      <td>Bunga S.</td>\n",
       "      <td>6.5</td>\n",
       "    </tr>\n",
       "    <tr>\n",
       "      <th>2</th>\n",
       "      <td>Candra M.</td>\n",
       "      <td>7.8</td>\n",
       "    </tr>\n",
       "    <tr>\n",
       "      <th>3</th>\n",
       "      <td>Dian P.</td>\n",
       "      <td>7.2</td>\n",
       "    </tr>\n",
       "    <tr>\n",
       "      <th>4</th>\n",
       "      <td>Eko H.</td>\n",
       "      <td>6.0</td>\n",
       "    </tr>\n",
       "  </tbody>\n",
       "</table>\n",
       "</div>"
      ],
      "text/plain": [
       "  Nama Mahasiswa  Durasi Tidur (Jam)\n",
       "0       Adnan R.                 7.0\n",
       "1       Bunga S.                 6.5\n",
       "2      Candra M.                 7.8\n",
       "3        Dian P.                 7.2\n",
       "4         Eko H.                 6.0"
      ]
     },
     "execution_count": 8,
     "metadata": {},
     "output_type": "execute_result"
    }
   ],
   "source": [
    "dataset = pd.read_csv(r'D:\\Pemograman Python\\Sleep Pattern Analysis\\Data\\sleep_duration.csv')\n",
    "dataset.head()"
   ]
  },
  {
   "cell_type": "code",
   "execution_count": 11,
   "id": "e29dbcaf",
   "metadata": {},
   "outputs": [
    {
     "name": "stdout",
     "output_type": "stream",
     "text": [
      "Nama Mahasiswa         object\n",
      "Durasi Tidur (Jam)    float64\n",
      "dtype: object\n"
     ]
    }
   ],
   "source": [
    "check_typedata = print(dataset.dtypes)"
   ]
  },
  {
   "cell_type": "code",
   "execution_count": 16,
   "id": "0809ab5c",
   "metadata": {},
   "outputs": [
    {
     "name": "stdout",
     "output_type": "stream",
     "text": [
      "Result: 0\n"
     ]
    }
   ],
   "source": [
    "check_duplicated = dataset.duplicated().sum()\n",
    "print(f\"Result: {check_duplicated}\")"
   ]
  },
  {
   "cell_type": "code",
   "execution_count": 19,
   "id": "a7f88e3b",
   "metadata": {},
   "outputs": [
    {
     "name": "stdout",
     "output_type": "stream",
     "text": [
      "result = Nama Mahasiswa        0\n",
      "Durasi Tidur (Jam)    0\n",
      "dtype: int64\n"
     ]
    }
   ],
   "source": [
    "check_nun = dataset.isnull().sum()\n",
    "print(f\"result = {dataset.isnull().sum()}\")"
   ]
  },
  {
   "cell_type": "code",
   "execution_count": 29,
   "id": "fac3648f",
   "metadata": {},
   "outputs": [
    {
     "name": "stdout",
     "output_type": "stream",
     "text": [
      "--- Hasil Perhitungan IQR ---\n",
      "Q1 (25th Percentile): 6.22 jam\n",
      "Q3 (75th Percentile): 7.57 jam\n",
      "IQR (Q3 - Q1): 1.35 jam\n",
      "Batas Bawah (Lower Bound): 4.20 jam\n",
      "Batas Atas (Upper Bound): 9.60 jam\n",
      "------------------------------\n",
      "STATUS: Tidak ditemukan Outlier berdasarkan metode IQR.\n"
     ]
    }
   ],
   "source": [
    "durasi = dataset['Durasi Tidur (Jam)']\n",
    "\n",
    "# 1. Menghitung Kuartil (Q1 dan Q3)\n",
    "Q1 = durasi.quantile(0.25)\n",
    "Q3 = durasi.quantile(0.75)\n",
    "\n",
    "# 2. Menghitung Interquartile Range (IQR)\n",
    "IQR = Q3 - Q1\n",
    "\n",
    "# 3. Menghitung Batas Pagar (Fences)\n",
    "batas_bawah = Q1 - 1.5 * IQR\n",
    "batas_atas = Q3 + 1.5 * IQR\n",
    "\n",
    "# 4. Mengidentifikasi Outlier\n",
    "outliers = dataset[(durasi < batas_bawah) | (durasi > batas_atas)]\n",
    "\n",
    "# Menampilkan Hasil\n",
    "print(f\"--- Hasil Perhitungan IQR ---\")\n",
    "print(f\"Q1 (25th Percentile): {Q1:.2f} jam\")\n",
    "print(f\"Q3 (75th Percentile): {Q3:.2f} jam\")\n",
    "print(f\"IQR (Q3 - Q1): {IQR:.2f} jam\")\n",
    "print(f\"Batas Bawah (Lower Bound): {batas_bawah:.2f} jam\")\n",
    "print(f\"Batas Atas (Upper Bound): {batas_atas:.2f} jam\")\n",
    "print(\"-\" * 30)\n",
    "\n",
    "if outliers.empty:\n",
    "    print(\"STATUS: Tidak ditemukan Outlier berdasarkan metode IQR.\")\n",
    "else:\n",
    "    print(f\"STATUS: Ditemukan {len(outliers)} Outlier berdasarkan metode IQR:\")\n",
    "    print(outliers)"
   ]
  }
 ],
 "metadata": {
  "kernelspec": {
   "display_name": "venv",
   "language": "python",
   "name": "python3"
  },
  "language_info": {
   "codemirror_mode": {
    "name": "ipython",
    "version": 3
   },
   "file_extension": ".py",
   "mimetype": "text/x-python",
   "name": "python",
   "nbconvert_exporter": "python",
   "pygments_lexer": "ipython3",
   "version": "3.13.7"
  }
 },
 "nbformat": 4,
 "nbformat_minor": 5
}
