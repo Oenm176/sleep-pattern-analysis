{
 "cells": [
  {
   "cell_type": "code",
   "execution_count": 25,
   "id": "6ec88f71",
   "metadata": {},
   "outputs": [],
   "source": [
    "import pandas as pd\n",
    "import seaborn as sns\n",
    "import matplotlib.pyplot as plt\n",
    "import numpy as np\n",
    "from collections import Counter\n",
    "from scipy.stats import skew"
   ]
  },
  {
   "cell_type": "code",
   "execution_count": 26,
   "id": "8d677a75",
   "metadata": {},
   "outputs": [
    {
     "data": {
      "text/html": [
       "<div>\n",
       "<style scoped>\n",
       "    .dataframe tbody tr th:only-of-type {\n",
       "        vertical-align: middle;\n",
       "    }\n",
       "\n",
       "    .dataframe tbody tr th {\n",
       "        vertical-align: top;\n",
       "    }\n",
       "\n",
       "    .dataframe thead th {\n",
       "        text-align: right;\n",
       "    }\n",
       "</style>\n",
       "<table border=\"1\" class=\"dataframe\">\n",
       "  <thead>\n",
       "    <tr style=\"text-align: right;\">\n",
       "      <th></th>\n",
       "      <th>Nama Mahasiswa</th>\n",
       "      <th>Durasi Tidur (Jam)</th>\n",
       "    </tr>\n",
       "  </thead>\n",
       "  <tbody>\n",
       "    <tr>\n",
       "      <th>0</th>\n",
       "      <td>Adnan R.</td>\n",
       "      <td>7.0</td>\n",
       "    </tr>\n",
       "    <tr>\n",
       "      <th>1</th>\n",
       "      <td>Bunga S.</td>\n",
       "      <td>6.5</td>\n",
       "    </tr>\n",
       "    <tr>\n",
       "      <th>2</th>\n",
       "      <td>Candra M.</td>\n",
       "      <td>7.8</td>\n",
       "    </tr>\n",
       "    <tr>\n",
       "      <th>3</th>\n",
       "      <td>Dian P.</td>\n",
       "      <td>7.2</td>\n",
       "    </tr>\n",
       "    <tr>\n",
       "      <th>4</th>\n",
       "      <td>Eko H.</td>\n",
       "      <td>6.0</td>\n",
       "    </tr>\n",
       "  </tbody>\n",
       "</table>\n",
       "</div>"
      ],
      "text/plain": [
       "  Nama Mahasiswa  Durasi Tidur (Jam)\n",
       "0       Adnan R.                 7.0\n",
       "1       Bunga S.                 6.5\n",
       "2      Candra M.                 7.8\n",
       "3        Dian P.                 7.2\n",
       "4         Eko H.                 6.0"
      ]
     },
     "execution_count": 26,
     "metadata": {},
     "output_type": "execute_result"
    }
   ],
   "source": [
    "dataset = pd.read_csv(r\"Data\\sleep_duration.csv\")\n",
    "dataset.head()"
   ]
  },
  {
   "cell_type": "code",
   "execution_count": 27,
   "id": "e29dbcaf",
   "metadata": {},
   "outputs": [
    {
     "name": "stdout",
     "output_type": "stream",
     "text": [
      "Nama Mahasiswa         object\n",
      "Durasi Tidur (Jam)    float64\n",
      "dtype: object\n"
     ]
    }
   ],
   "source": [
    "check_typedata = print(dataset.dtypes)"
   ]
  },
  {
   "cell_type": "code",
   "execution_count": 28,
   "id": "0809ab5c",
   "metadata": {},
   "outputs": [
    {
     "name": "stdout",
     "output_type": "stream",
     "text": [
      "Result: 0\n"
     ]
    }
   ],
   "source": [
    "check_duplicated = dataset.duplicated().sum()\n",
    "print(f\"Result: {check_duplicated}\")"
   ]
  },
  {
   "cell_type": "code",
   "execution_count": 29,
   "id": "a7f88e3b",
   "metadata": {},
   "outputs": [
    {
     "name": "stdout",
     "output_type": "stream",
     "text": [
      "result = Nama Mahasiswa        0\n",
      "Durasi Tidur (Jam)    0\n",
      "dtype: int64\n"
     ]
    }
   ],
   "source": [
    "check_nun = dataset.isnull().sum()\n",
    "print(f\"result = {dataset.isnull().sum()}\")"
   ]
  },
  {
   "cell_type": "code",
   "execution_count": 30,
   "id": "fac3648f",
   "metadata": {},
   "outputs": [
    {
     "name": "stdout",
     "output_type": "stream",
     "text": [
      "--- Hasil Perhitungan IQR ---\n",
      "Q1 (25th Percentile): 6.22 jam\n",
      "Q3 (75th Percentile): 7.57 jam\n",
      "IQR (Q3 - Q1): 1.35 jam\n",
      "Batas Bawah (Lower Bound): 4.20 jam\n",
      "Batas Atas (Upper Bound): 9.60 jam\n",
      "------------------------------\n",
      "STATUS: Tidak ditemukan Outlier berdasarkan metode IQR.\n"
     ]
    }
   ],
   "source": [
    "durasi = dataset['Durasi Tidur (Jam)']\n",
    "\n",
    "Q1 = durasi.quantile(0.25)\n",
    "Q3 = durasi.quantile(0.75)\n",
    "\n",
    "IQR = Q3 - Q1\n",
    "\n",
    "batas_bawah = Q1 - 1.5 * IQR\n",
    "batas_atas = Q3 + 1.5 * IQR\n",
    "\n",
    "outliers = dataset[(durasi < batas_bawah) | (durasi > batas_atas)]\n",
    "\n",
    "print(f\"--- Hasil Perhitungan IQR ---\")\n",
    "print(f\"Q1 (25th Percentile): {Q1:.2f} jam\")\n",
    "print(f\"Q3 (75th Percentile): {Q3:.2f} jam\")\n",
    "print(f\"IQR (Q3 - Q1): {IQR:.2f} jam\")\n",
    "print(f\"Batas Bawah (Lower Bound): {batas_bawah:.2f} jam\")\n",
    "print(f\"Batas Atas (Upper Bound): {batas_atas:.2f} jam\")\n",
    "print(\"-\" * 30)\n",
    "\n",
    "if outliers.empty:\n",
    "    print(\"STATUS: Tidak ditemukan Outlier berdasarkan metode IQR.\")\n",
    "else:\n",
    "    print(f\"STATUS: Ditemukan {len(outliers)} Outlier berdasarkan metode IQR:\")\n",
    "    print(outliers)"
   ]
  },
  {
   "cell_type": "code",
   "execution_count": 31,
   "id": "0576ffe6-5e0a-469f-b092-00a5e49d6b01",
   "metadata": {},
   "outputs": [
    {
     "name": "stdout",
     "output_type": "stream",
     "text": [
      "Tipe data kolom: float64\n",
      "Rata-rata Durasi Tidur: 6.98 jam\n"
     ]
    }
   ],
   "source": [
    "rata_rata_tidur = dataset['Durasi Tidur (Jam)'].mean()\n",
    "print(f\"Tipe data kolom: {dataset['Durasi Tidur (Jam)'].dtype}\")\n",
    "print(f\"Rata-rata Durasi Tidur: {rata_rata_tidur:.2f} jam\")"
   ]
  },
  {
   "cell_type": "code",
   "execution_count": 32,
   "id": "b97afbb6-49a3-4783-9f64-d36f630c7478",
   "metadata": {},
   "outputs": [
    {
     "name": "stdout",
     "output_type": "stream",
     "text": [
      "Tipe data kolom: float64\n",
      "Median Durasi Tidur: 7.05 jam\n"
     ]
    }
   ],
   "source": [
    "median_tidur = dataset['Durasi Tidur (Jam)'].median()\n",
    "print(f\"Tipe data kolom: {dataset['Durasi Tidur (Jam)'].dtype}\")\n",
    "print(f\"Median Durasi Tidur: {median_tidur:.2f} jam\")"
   ]
  },
  {
   "cell_type": "code",
   "execution_count": 34,
   "id": "54e3fdaa",
   "metadata": {},
   "outputs": [
    {
     "name": "stdout",
     "output_type": "stream",
     "text": [
      "Nilai Skewness: -0.0476\n",
      "Distribusi durasi tidur menunjukkan Negatif (Left Skewed), dengan ekor memanjang ke kiri.\n",
      "Ini mengindikasikan bahwa sebagian besar mahasiswa tidur sedikit lebih lama dari rata-rata, dengan beberapa outlier yang tidur sangat sebentar.\n"
     ]
    }
   ],
   "source": [
    "nilai_skewness = skew(dataset['Durasi Tidur (Jam)'])\n",
    "if nilai_skewness > 0:\n",
    "    jenis = \"Positif (Right Skewed)\"\n",
    "    arah = \"kanan\"\n",
    "    interpretasi = \"sebagian besar mahasiswa tidur sedikit lebih sebentar dari rata-rata, dengan beberapa outlier yang tidur sangat lama.\"\n",
    "elif nilai_skewness < 0:\n",
    "    jenis = \"Negatif (Left Skewed)\"\n",
    "    arah = \"kiri\"\n",
    "    interpretasi = \"sebagian besar mahasiswa tidur sedikit lebih lama dari rata-rata, dengan beberapa outlier yang tidur sangat sebentar.\"\n",
    "else:\n",
    "    jenis = \"Simetris (Tidak Skewed)\"\n",
    "    arah = \"-\"\n",
    "    interpretasi = \"durasi tidur mahasiswa relatif seimbang di sekitar rata-rata.\"\n",
    "\n",
    "print(f\"Nilai Skewness: {nilai_skewness:.4f}\")\n",
    "print(f\"Distribusi durasi tidur menunjukkan {jenis}, dengan ekor memanjang ke {arah}.\")\n",
    "print(f\"Ini mengindikasikan bahwa {interpretasi}\")"
   ]
  }
 ],
 "metadata": {
  "kernelspec": {
   "display_name": "Python 3",
   "language": "python",
   "name": "python3"
  },
  "language_info": {
   "codemirror_mode": {
    "name": "ipython",
    "version": 3
   },
   "file_extension": ".py",
   "mimetype": "text/x-python",
   "name": "python",
   "nbconvert_exporter": "python",
   "pygments_lexer": "ipython3",
   "version": "3.13.7"
  }
 },
 "nbformat": 4,
 "nbformat_minor": 5
}
